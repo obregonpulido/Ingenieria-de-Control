{
  "nbformat": 4,
  "nbformat_minor": 0,
  "metadata": {
    "colab": {
      "provenance": [],
      "include_colab_link": true
    },
    "kernelspec": {
      "name": "python3",
      "display_name": "Python 3"
    },
    "language_info": {
      "name": "python"
    }
  },
  "cells": [
    {
      "cell_type": "markdown",
      "metadata": {
        "id": "view-in-github",
        "colab_type": "text"
      },
      "source": [
        "<a href=\"https://colab.research.google.com/github/obregonpulido/Ingenieria-de-Control/blob/main/Guillermo_Obregon_Actividad_6.ipynb\" target=\"_parent\"><img src=\"https://colab.research.google.com/assets/colab-badge.svg\" alt=\"Open In Colab\"/></a>"
      ]
    },
    {
      "cell_type": "markdown",
      "source": [
        "\n",
        "\n",
        "---\n",
        "\n",
        "\n",
        "# **ACTIVIDAD 6**\n",
        "\n",
        "## Funciones\n",
        "\n",
        "###**NOTA** 🌟: Para realizar la actividad y que le permita guardar cambios es necesario **sacarle una copia** al archivo original. Recuerde que todo archivo al que le saque copia se ira directamente a su carpeta de **Colab Notebooks** dentro de su **Drive**. Una vez terminado, descargue su archivo de actividad con extensión **.ipynb** y adjúntelo a la tarea correspondiente en el curso de la plataforma de [Formación docente cucei](http://formaciondocente.cucei.udg.mx/mod/assign/view.php?id=41616).\n",
        "\n",
        "---\n",
        "\n"
      ],
      "metadata": {
        "id": "eDxxkNgBumYd"
      }
    },
    {
      "cell_type": "markdown",
      "source": [
        "###**Ejercicio 1**\n",
        "\n",
        "\n",
        "####Realice una función sin paso de parámetros con retorno múltiple. E imprime el resultado.\n",
        "\n"
      ],
      "metadata": {
        "id": "0KX-iU62kHaE"
      }
    },
    {
      "cell_type": "code",
      "source": [
        "def memo(xi,n):\n",
        "  '''Esta funcion realiza el algoritmo de newton\n",
        "  para la funcion fx dada su derivada dfx\n",
        "  para el numero de iteraciones dado por n\n",
        "  y condición inicial xi'''\n",
        "  x=xi\n",
        "  for m in range(1,n+1):\n",
        "    print(m)\n",
        "    fx=(x-1)*(x+3)\n",
        "    dfx=(x-1)+(x+3)\n",
        "    nx=x-fx/dfx\n",
        "    x=nx\n",
        "    print(x)\n",
        "  return x,fx,dfx\n",
        "\n",
        "raiz,función, derivada = memo(-2,7)\n",
        "\n",
        "print(\"\\nLa raiz de la función es:\",raiz)\n",
        "print(\"El valor de la función en el punto considerado es:\",función)\n",
        "print(\"El valor de la derivada de la función en el punto considerado es:\",derivada)"
      ],
      "metadata": {
        "id": "5LmYT7y2ZaJS",
        "colab": {
          "base_uri": "https://localhost:8080/"
        },
        "outputId": "781e0bdd-6f51-41e7-eecb-04a890f35780"
      },
      "execution_count": null,
      "outputs": [
        {
          "output_type": "stream",
          "name": "stdout",
          "text": [
            "1\n",
            "-3.5\n",
            "2\n",
            "-3.05\n",
            "3\n",
            "-3.000609756097561\n",
            "4\n",
            "-3.0000000929222947\n",
            "5\n",
            "-3.000000000000002\n",
            "6\n",
            "-3.0\n",
            "7\n",
            "-3.0\n",
            "\n",
            "La raiz de la función es: -3.0\n",
            "El valor de la función en el punto considerado es: -0.0\n",
            "El valor de la derivada de la función en el punto considerado es: -4.0\n"
          ]
        }
      ]
    },
    {
      "cell_type": "markdown",
      "metadata": {
        "id": "Db-UHxfVDCPS"
      },
      "source": [
        "###**Ejercicio 2:**\n",
        "\n",
        "####Realizar una función con paso de parámetros que a partir de dos números cumpla lo siguiente:\n",
        "\n",
        "*   Si el primer número es mayor que el segundo, debe retornar un valor de **1**.\n",
        "\n",
        "*   Si el primer número es menor que el segundo, debe retornar un valor de **-1**.\n",
        "\n",
        "*   Si ambos números son iguales, debe retornar un valor de **0**."
      ]
    },
    {
      "cell_type": "code",
      "source": [
        "def comp(x1,x2):\n",
        "  if x1>x2: return 1\n",
        "  elif x1==x2: return 0\n",
        "  else: return -1\n",
        "\n",
        "a=comp(3,2)\n",
        "b=comp(2,2)\n",
        "c=comp(1,2)\n",
        "print(a,b,c)"
      ],
      "metadata": {
        "id": "ua4WoeBfISX2",
        "colab": {
          "base_uri": "https://localhost:8080/"
        },
        "outputId": "9e13b5a5-4464-4749-bdb2-056c8fd0e209"
      },
      "execution_count": null,
      "outputs": [
        {
          "output_type": "stream",
          "name": "stdout",
          "text": [
            "1 0 -1\n"
          ]
        }
      ]
    }
  ]
}